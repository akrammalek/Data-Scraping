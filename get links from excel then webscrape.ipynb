{
 "cells": [
  {
   "cell_type": "markdown",
   "id": "a29f84da",
   "metadata": {},
   "source": [
    "## Data Scrape\n",
    "### In this file, I use excel file that has hyperlink along with rows, access all website using beautifulsoup to get the information \n",
    "    Steps\n",
    "         1- Read excel file using openpyxl library to get the hyperlinks.  \n",
    "         2- Use request library and beautifulsoup to scrape the data using tags e.g., <section>, <div>, <p>.\n",
    "         3- Iter through existed dataframe to fill empty rows. "
   ]
  },
  {
   "cell_type": "code",
   "execution_count": 253,
   "id": "09549a1f",
   "metadata": {},
   "outputs": [],
   "source": [
    "import pandas as pd\n",
    "from openpyxl import load_workbook\n",
    "import requests\n",
    "from bs4 import BeautifulSoup\n",
    "import time\n",
    "import numpy as np"
   ]
  },
  {
   "cell_type": "code",
   "execution_count": 298,
   "id": "84ab6aa3",
   "metadata": {},
   "outputs": [],
   "source": [
    "# Extracting data from Excel sheet\n",
    "wb=load_workbook('KSA COMP ESTABLISHED  DATE.xlsx')\n",
    "ws=wb['Sheet1']\n",
    "data=[]\n",
    "for row in ws.iter_rows():\n",
    "    row_data=[]\n",
    "    for cell in row:\n",
    "        if cell.hyperlink:\n",
    "            cell_value=cell.hyperlink.target\n",
    "        else:\n",
    "            cell_value=cell.value\n",
    "        row_data.append(cell_value)\n",
    "    data.append(row_data)\n"
   ]
  },
  {
   "cell_type": "code",
   "execution_count": 348,
   "id": "a3f885ad",
   "metadata": {},
   "outputs": [],
   "source": [
    "# function using beautifulSoup to get the data from websites. \n",
    "def scarp_establishment_date(link):\n",
    "    try:\n",
    "        proxies = {\n",
    "        'http': '127.0.0.1 :50401',\n",
    "#         'https': '127.0.0.1 :50401',\n",
    "        }\n",
    "        response=requests.get(link,timeout=10,proxies=proxies)\n",
    "        soup=BeautifulSoup(response.content,'html.parser')\n",
    "        # code to get company's name \n",
    "        name_part=soup.find('section',{'class':'saudiPage saudi-cable width80'})\n",
    "        company_name=name_part.find('h3').text.strip()\n",
    "\n",
    "        # code to get establishment date.\n",
    "        date_part=soup.find('div',{'class':'company_management_tab_dtl'})\n",
    "        establish_date=date_part.find_all('p')[0].text\n",
    "#         df=pd.DataFrame(columns=('company_name','establish_date'))\n",
    "    except Exception as e:\n",
    "        print(\"An error occurred:\", e)\n",
    "    return company_name,establish_date"
   ]
  },
  {
   "cell_type": "code",
   "execution_count": 349,
   "id": "58c3b089",
   "metadata": {},
   "outputs": [
    {
     "data": {
      "text/html": [
       "<div>\n",
       "<style scoped>\n",
       "    .dataframe tbody tr th:only-of-type {\n",
       "        vertical-align: middle;\n",
       "    }\n",
       "\n",
       "    .dataframe tbody tr th {\n",
       "        vertical-align: top;\n",
       "    }\n",
       "\n",
       "    .dataframe thead th {\n",
       "        text-align: right;\n",
       "    }\n",
       "</style>\n",
       "<table border=\"1\" class=\"dataframe\">\n",
       "  <thead>\n",
       "    <tr style=\"text-align: right;\">\n",
       "      <th></th>\n",
       "      <th>Company_link</th>\n",
       "      <th>Estab_date</th>\n",
       "      <th>Company_name</th>\n",
       "    </tr>\n",
       "  </thead>\n",
       "  <tbody>\n",
       "    <tr>\n",
       "      <th>0</th>\n",
       "      <td>https://www.saudiexchange.sa/wps/portal/saudie...</td>\n",
       "      <td>None</td>\n",
       "      <td>NaN</td>\n",
       "    </tr>\n",
       "    <tr>\n",
       "      <th>1</th>\n",
       "      <td>https://www.saudiexchange.sa/wps/portal/saudie...</td>\n",
       "      <td>None</td>\n",
       "      <td>NaN</td>\n",
       "    </tr>\n",
       "    <tr>\n",
       "      <th>2</th>\n",
       "      <td>https://www.saudiexchange.sa/wps/portal/saudie...</td>\n",
       "      <td>None</td>\n",
       "      <td>NaN</td>\n",
       "    </tr>\n",
       "    <tr>\n",
       "      <th>3</th>\n",
       "      <td>https://www.saudiexchange.sa/wps/portal/saudie...</td>\n",
       "      <td>None</td>\n",
       "      <td>NaN</td>\n",
       "    </tr>\n",
       "    <tr>\n",
       "      <th>4</th>\n",
       "      <td>https://www.saudiexchange.sa/wps/portal/saudie...</td>\n",
       "      <td>None</td>\n",
       "      <td>NaN</td>\n",
       "    </tr>\n",
       "  </tbody>\n",
       "</table>\n",
       "</div>"
      ],
      "text/plain": [
       "                                        Company_link Estab_date  Company_name\n",
       "0  https://www.saudiexchange.sa/wps/portal/saudie...       None           NaN\n",
       "1  https://www.saudiexchange.sa/wps/portal/saudie...       None           NaN\n",
       "2  https://www.saudiexchange.sa/wps/portal/saudie...       None           NaN\n",
       "3  https://www.saudiexchange.sa/wps/portal/saudie...       None           NaN\n",
       "4  https://www.saudiexchange.sa/wps/portal/saudie...       None           NaN"
      ]
     },
     "execution_count": 349,
     "metadata": {},
     "output_type": "execute_result"
    }
   ],
   "source": [
    "# Creating DataFrame and cleaning data\n",
    "linkdf=pd.DataFrame(data)\n",
    "linkdf.columns=['Company_link','Estab_date']\n",
    "linkdf=linkdf.drop(linkdf.index[0],axis=0)\n",
    "linkdf=linkdf.iloc[lambda x: x.index%2!=0]\n",
    "linkdf['Company_name']=np.nan\n",
    "linkdf.reset_index(drop=True,inplace=True)\n",
    "\n",
    "linkdf.head()"
   ]
  },
  {
   "cell_type": "code",
   "execution_count": 370,
   "id": "c67b8725",
   "metadata": {},
   "outputs": [],
   "source": [
    "# call a function to fill the dataframe, Do iteration \n",
    "for index, row in linkdf.iterrows():\n",
    "    linkdf.loc[index,['Estab_date','Company_name']]=scarp_establishment_date(row[0])   \n",
    "    "
   ]
  },
  {
   "cell_type": "code",
   "execution_count": 373,
   "id": "a901657f",
   "metadata": {},
   "outputs": [],
   "source": [
    "# export dataframe to excel file\n",
    "linkdf.to_excel('establish_date.xlsx')"
   ]
  },
  {
   "cell_type": "code",
   "execution_count": 374,
   "id": "5026f4da",
   "metadata": {},
   "outputs": [
    {
     "data": {
      "text/html": [
       "<div>\n",
       "<style scoped>\n",
       "    .dataframe tbody tr th:only-of-type {\n",
       "        vertical-align: middle;\n",
       "    }\n",
       "\n",
       "    .dataframe tbody tr th {\n",
       "        vertical-align: top;\n",
       "    }\n",
       "\n",
       "    .dataframe thead th {\n",
       "        text-align: right;\n",
       "    }\n",
       "</style>\n",
       "<table border=\"1\" class=\"dataframe\">\n",
       "  <thead>\n",
       "    <tr style=\"text-align: right;\">\n",
       "      <th></th>\n",
       "      <th>Company_link</th>\n",
       "      <th>Estab_date</th>\n",
       "      <th>Company_name</th>\n",
       "    </tr>\n",
       "  </thead>\n",
       "  <tbody>\n",
       "    <tr>\n",
       "      <th>0</th>\n",
       "      <td>https://www.saudiexchange.sa/wps/portal/saudie...</td>\n",
       "      <td>Saudi Arabia Refineries Co.</td>\n",
       "      <td>1960/06/14</td>\n",
       "    </tr>\n",
       "    <tr>\n",
       "      <th>1</th>\n",
       "      <td>https://www.saudiexchange.sa/wps/portal/saudie...</td>\n",
       "      <td>Saudi Arabian Oil Co.</td>\n",
       "      <td>1988/11/13</td>\n",
       "    </tr>\n",
       "    <tr>\n",
       "      <th>2</th>\n",
       "      <td>https://www.saudiexchange.sa/wps/portal/saudie...</td>\n",
       "      <td>Rabigh Refining and Petrochemical Co.</td>\n",
       "      <td>2005/09/19</td>\n",
       "    </tr>\n",
       "    <tr>\n",
       "      <th>3</th>\n",
       "      <td>https://www.saudiexchange.sa/wps/portal/saudie...</td>\n",
       "      <td>Arabian Drilling Co.</td>\n",
       "      <td>1964/04/07</td>\n",
       "    </tr>\n",
       "    <tr>\n",
       "      <th>4</th>\n",
       "      <td>https://www.saudiexchange.sa/wps/portal/saudie...</td>\n",
       "      <td>National Shipping Company of Saudi Arabia</td>\n",
       "      <td>1978/01/22</td>\n",
       "    </tr>\n",
       "  </tbody>\n",
       "</table>\n",
       "</div>"
      ],
      "text/plain": [
       "                                        Company_link  \\\n",
       "0  https://www.saudiexchange.sa/wps/portal/saudie...   \n",
       "1  https://www.saudiexchange.sa/wps/portal/saudie...   \n",
       "2  https://www.saudiexchange.sa/wps/portal/saudie...   \n",
       "3  https://www.saudiexchange.sa/wps/portal/saudie...   \n",
       "4  https://www.saudiexchange.sa/wps/portal/saudie...   \n",
       "\n",
       "                                  Estab_date Company_name  \n",
       "0                Saudi Arabia Refineries Co.   1960/06/14  \n",
       "1                      Saudi Arabian Oil Co.   1988/11/13  \n",
       "2      Rabigh Refining and Petrochemical Co.   2005/09/19  \n",
       "3                       Arabian Drilling Co.   1964/04/07  \n",
       "4  National Shipping Company of Saudi Arabia   1978/01/22  "
      ]
     },
     "execution_count": 374,
     "metadata": {},
     "output_type": "execute_result"
    }
   ],
   "source": [
    "linkdf.head()"
   ]
  },
  {
   "cell_type": "code",
   "execution_count": null,
   "id": "c9bbb56d",
   "metadata": {},
   "outputs": [],
   "source": []
  }
 ],
 "metadata": {
  "kernelspec": {
   "display_name": "Python 3 (ipykernel)",
   "language": "python",
   "name": "python3"
  },
  "language_info": {
   "codemirror_mode": {
    "name": "ipython",
    "version": 3
   },
   "file_extension": ".py",
   "mimetype": "text/x-python",
   "name": "python",
   "nbconvert_exporter": "python",
   "pygments_lexer": "ipython3",
   "version": "3.11.5"
  }
 },
 "nbformat": 4,
 "nbformat_minor": 5
}
